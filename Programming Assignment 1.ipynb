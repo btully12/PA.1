{
 "cells": [
  {
   "cell_type": "code",
   "execution_count": 64,
   "id": "2698b08f",
   "metadata": {},
   "outputs": [
    {
     "name": "stdout",
     "output_type": "stream",
     "text": [
      "Enter a floating point number:44.3\n",
      "Enter a integer:16\n",
      "The sum is: 60.3\n",
      "The difference is: 28.299999999999997\n",
      "The product is: 708.8\n",
      "The quotient is: 2.76875\n",
      "The type for the result is: <class 'float'>\n"
     ]
    }
   ],
   "source": [
    "##File name: Programming Assignment 1\n",
    "##Author: Brett Tully \n",
    "##Python Version: 3\n",
    "##Class: CS-150-02\n",
    "##Semester: Fall '21\n",
    "a = float(input(\"Enter a floating point number:\")) \n",
    "\n",
    "b = int(input(\"Enter a integer:\")) \n",
    "\n",
    "print('The sum is:',a+b)\n",
    "\n",
    "print('The difference is:',a-b)\n",
    "\n",
    "print('The product is:',a*b)\n",
    "\n",
    "print('The quotient is:', a/b)\n",
    "    \n",
    "\n",
    "print('The type for the result is:', type(a)) \n",
    "\n",
    "#the result is a float due to the first input needing a float point. \n",
    "\n",
    "\n",
    "\n",
    "\n",
    "\n",
    "\n",
    "\n",
    "\n",
    "\n",
    "\n",
    "\n",
    "\n",
    "\n",
    "\n"
   ]
  },
  {
   "cell_type": "code",
   "execution_count": null,
   "id": "817aa31c",
   "metadata": {},
   "outputs": [],
   "source": [
    "\n"
   ]
  },
  {
   "cell_type": "code",
   "execution_count": null,
   "id": "081527d7",
   "metadata": {},
   "outputs": [],
   "source": []
  },
  {
   "cell_type": "code",
   "execution_count": null,
   "id": "d84151fd",
   "metadata": {},
   "outputs": [],
   "source": []
  }
 ],
 "metadata": {
  "kernelspec": {
   "display_name": "Python 3",
   "language": "python",
   "name": "python3"
  },
  "language_info": {
   "codemirror_mode": {
    "name": "ipython",
    "version": 3
   },
   "file_extension": ".py",
   "mimetype": "text/x-python",
   "name": "python",
   "nbconvert_exporter": "python",
   "pygments_lexer": "ipython3",
   "version": "3.8.8"
  }
 },
 "nbformat": 4,
 "nbformat_minor": 5
}
